{
 "cells": [
  {
   "cell_type": "code",
   "execution_count": 109,
   "id": "d1ba5022",
   "metadata": {},
   "outputs": [],
   "source": [
    "import numpy as np\n",
    "import pandas as pd\n",
    "import seaborn as sns\n",
    "import matplotlib.pyplot as plt\n",
    "from sklearn.metrics import mean_squared_error\n",
    "from sklearn.model_selection import train_test_split\n",
    "from sklearn.preprocessing import PowerTransformer\n",
    "from sklearn.preprocessing import LabelEncoder\n",
    "from scipy.stats import zscore\n",
    "from sklearn.preprocessing import StandardScaler,MinMaxScaler\n",
    "\n",
    "import warnings\n",
    "warnings.filterwarnings('ignore')"
   ]
  },
  {
   "cell_type": "code",
   "execution_count": 2,
   "id": "6f12d8ee",
   "metadata": {},
   "outputs": [],
   "source": [
    "df=pd.read_csv('LASP.csv')"
   ]
  },
  {
   "cell_type": "code",
   "execution_count": 3,
   "id": "96ac5a3d",
   "metadata": {},
   "outputs": [],
   "source": [
    "df=pd.DataFrame(data=df)"
   ]
  },
  {
   "cell_type": "code",
   "execution_count": 5,
   "id": "852dd6cb",
   "metadata": {},
   "outputs": [
    {
     "data": {
      "text/html": [
       "<div>\n",
       "<style scoped>\n",
       "    .dataframe tbody tr th:only-of-type {\n",
       "        vertical-align: middle;\n",
       "    }\n",
       "\n",
       "    .dataframe tbody tr th {\n",
       "        vertical-align: top;\n",
       "    }\n",
       "\n",
       "    .dataframe thead th {\n",
       "        text-align: right;\n",
       "    }\n",
       "</style>\n",
       "<table border=\"1\" class=\"dataframe\">\n",
       "  <thead>\n",
       "    <tr style=\"text-align: right;\">\n",
       "      <th></th>\n",
       "      <th>0</th>\n",
       "      <th>1</th>\n",
       "      <th>2</th>\n",
       "      <th>3</th>\n",
       "      <th>4</th>\n",
       "    </tr>\n",
       "  </thead>\n",
       "  <tbody>\n",
       "    <tr>\n",
       "      <th>Loan_ID</th>\n",
       "      <td>LP001002</td>\n",
       "      <td>LP001003</td>\n",
       "      <td>LP001005</td>\n",
       "      <td>LP001006</td>\n",
       "      <td>LP001008</td>\n",
       "    </tr>\n",
       "    <tr>\n",
       "      <th>Gender</th>\n",
       "      <td>Male</td>\n",
       "      <td>Male</td>\n",
       "      <td>Male</td>\n",
       "      <td>Male</td>\n",
       "      <td>Male</td>\n",
       "    </tr>\n",
       "    <tr>\n",
       "      <th>Married</th>\n",
       "      <td>No</td>\n",
       "      <td>Yes</td>\n",
       "      <td>Yes</td>\n",
       "      <td>Yes</td>\n",
       "      <td>No</td>\n",
       "    </tr>\n",
       "    <tr>\n",
       "      <th>Dependents</th>\n",
       "      <td>0</td>\n",
       "      <td>1</td>\n",
       "      <td>0</td>\n",
       "      <td>0</td>\n",
       "      <td>0</td>\n",
       "    </tr>\n",
       "    <tr>\n",
       "      <th>Education</th>\n",
       "      <td>Graduate</td>\n",
       "      <td>Graduate</td>\n",
       "      <td>Graduate</td>\n",
       "      <td>Not Graduate</td>\n",
       "      <td>Graduate</td>\n",
       "    </tr>\n",
       "    <tr>\n",
       "      <th>Self_Employed</th>\n",
       "      <td>No</td>\n",
       "      <td>No</td>\n",
       "      <td>Yes</td>\n",
       "      <td>No</td>\n",
       "      <td>No</td>\n",
       "    </tr>\n",
       "    <tr>\n",
       "      <th>ApplicantIncome</th>\n",
       "      <td>5849</td>\n",
       "      <td>4583</td>\n",
       "      <td>3000</td>\n",
       "      <td>2583</td>\n",
       "      <td>6000</td>\n",
       "    </tr>\n",
       "    <tr>\n",
       "      <th>CoapplicantIncome</th>\n",
       "      <td>0.0</td>\n",
       "      <td>1508.0</td>\n",
       "      <td>0.0</td>\n",
       "      <td>2358.0</td>\n",
       "      <td>0.0</td>\n",
       "    </tr>\n",
       "    <tr>\n",
       "      <th>LoanAmount</th>\n",
       "      <td>NaN</td>\n",
       "      <td>128.0</td>\n",
       "      <td>66.0</td>\n",
       "      <td>120.0</td>\n",
       "      <td>141.0</td>\n",
       "    </tr>\n",
       "    <tr>\n",
       "      <th>Loan_Amount_Term</th>\n",
       "      <td>360.0</td>\n",
       "      <td>360.0</td>\n",
       "      <td>360.0</td>\n",
       "      <td>360.0</td>\n",
       "      <td>360.0</td>\n",
       "    </tr>\n",
       "    <tr>\n",
       "      <th>Credit_History</th>\n",
       "      <td>1.0</td>\n",
       "      <td>1.0</td>\n",
       "      <td>1.0</td>\n",
       "      <td>1.0</td>\n",
       "      <td>1.0</td>\n",
       "    </tr>\n",
       "    <tr>\n",
       "      <th>Property_Area</th>\n",
       "      <td>Urban</td>\n",
       "      <td>Rural</td>\n",
       "      <td>Urban</td>\n",
       "      <td>Urban</td>\n",
       "      <td>Urban</td>\n",
       "    </tr>\n",
       "    <tr>\n",
       "      <th>Loan_Status</th>\n",
       "      <td>Y</td>\n",
       "      <td>N</td>\n",
       "      <td>Y</td>\n",
       "      <td>Y</td>\n",
       "      <td>Y</td>\n",
       "    </tr>\n",
       "  </tbody>\n",
       "</table>\n",
       "</div>"
      ],
      "text/plain": [
       "                          0         1         2             3         4\n",
       "Loan_ID            LP001002  LP001003  LP001005      LP001006  LP001008\n",
       "Gender                 Male      Male      Male          Male      Male\n",
       "Married                  No       Yes       Yes           Yes        No\n",
       "Dependents                0         1         0             0         0\n",
       "Education          Graduate  Graduate  Graduate  Not Graduate  Graduate\n",
       "Self_Employed            No        No       Yes            No        No\n",
       "ApplicantIncome        5849      4583      3000          2583      6000\n",
       "CoapplicantIncome       0.0    1508.0       0.0        2358.0       0.0\n",
       "LoanAmount              NaN     128.0      66.0         120.0     141.0\n",
       "Loan_Amount_Term      360.0     360.0     360.0         360.0     360.0\n",
       "Credit_History          1.0       1.0       1.0           1.0       1.0\n",
       "Property_Area         Urban     Rural     Urban         Urban     Urban\n",
       "Loan_Status               Y         N         Y             Y         Y"
      ]
     },
     "execution_count": 5,
     "metadata": {},
     "output_type": "execute_result"
    }
   ],
   "source": [
    "df.head().transpose()"
   ]
  },
  {
   "cell_type": "code",
   "execution_count": 7,
   "id": "312fb1d2",
   "metadata": {},
   "outputs": [
    {
     "data": {
      "text/html": [
       "<div>\n",
       "<style scoped>\n",
       "    .dataframe tbody tr th:only-of-type {\n",
       "        vertical-align: middle;\n",
       "    }\n",
       "\n",
       "    .dataframe tbody tr th {\n",
       "        vertical-align: top;\n",
       "    }\n",
       "\n",
       "    .dataframe thead th {\n",
       "        text-align: right;\n",
       "    }\n",
       "</style>\n",
       "<table border=\"1\" class=\"dataframe\">\n",
       "  <thead>\n",
       "    <tr style=\"text-align: right;\">\n",
       "      <th></th>\n",
       "      <th>609</th>\n",
       "      <th>610</th>\n",
       "      <th>611</th>\n",
       "      <th>612</th>\n",
       "      <th>613</th>\n",
       "    </tr>\n",
       "  </thead>\n",
       "  <tbody>\n",
       "    <tr>\n",
       "      <th>Loan_ID</th>\n",
       "      <td>LP002978</td>\n",
       "      <td>LP002979</td>\n",
       "      <td>LP002983</td>\n",
       "      <td>LP002984</td>\n",
       "      <td>LP002990</td>\n",
       "    </tr>\n",
       "    <tr>\n",
       "      <th>Gender</th>\n",
       "      <td>Female</td>\n",
       "      <td>Male</td>\n",
       "      <td>Male</td>\n",
       "      <td>Male</td>\n",
       "      <td>Female</td>\n",
       "    </tr>\n",
       "    <tr>\n",
       "      <th>Married</th>\n",
       "      <td>No</td>\n",
       "      <td>Yes</td>\n",
       "      <td>Yes</td>\n",
       "      <td>Yes</td>\n",
       "      <td>No</td>\n",
       "    </tr>\n",
       "    <tr>\n",
       "      <th>Dependents</th>\n",
       "      <td>0</td>\n",
       "      <td>3+</td>\n",
       "      <td>1</td>\n",
       "      <td>2</td>\n",
       "      <td>0</td>\n",
       "    </tr>\n",
       "    <tr>\n",
       "      <th>Education</th>\n",
       "      <td>Graduate</td>\n",
       "      <td>Graduate</td>\n",
       "      <td>Graduate</td>\n",
       "      <td>Graduate</td>\n",
       "      <td>Graduate</td>\n",
       "    </tr>\n",
       "    <tr>\n",
       "      <th>Self_Employed</th>\n",
       "      <td>No</td>\n",
       "      <td>No</td>\n",
       "      <td>No</td>\n",
       "      <td>No</td>\n",
       "      <td>Yes</td>\n",
       "    </tr>\n",
       "    <tr>\n",
       "      <th>ApplicantIncome</th>\n",
       "      <td>2900</td>\n",
       "      <td>4106</td>\n",
       "      <td>8072</td>\n",
       "      <td>7583</td>\n",
       "      <td>4583</td>\n",
       "    </tr>\n",
       "    <tr>\n",
       "      <th>CoapplicantIncome</th>\n",
       "      <td>0.0</td>\n",
       "      <td>0.0</td>\n",
       "      <td>240.0</td>\n",
       "      <td>0.0</td>\n",
       "      <td>0.0</td>\n",
       "    </tr>\n",
       "    <tr>\n",
       "      <th>LoanAmount</th>\n",
       "      <td>71.0</td>\n",
       "      <td>40.0</td>\n",
       "      <td>253.0</td>\n",
       "      <td>187.0</td>\n",
       "      <td>133.0</td>\n",
       "    </tr>\n",
       "    <tr>\n",
       "      <th>Loan_Amount_Term</th>\n",
       "      <td>360.0</td>\n",
       "      <td>180.0</td>\n",
       "      <td>360.0</td>\n",
       "      <td>360.0</td>\n",
       "      <td>360.0</td>\n",
       "    </tr>\n",
       "    <tr>\n",
       "      <th>Credit_History</th>\n",
       "      <td>1.0</td>\n",
       "      <td>1.0</td>\n",
       "      <td>1.0</td>\n",
       "      <td>1.0</td>\n",
       "      <td>0.0</td>\n",
       "    </tr>\n",
       "    <tr>\n",
       "      <th>Property_Area</th>\n",
       "      <td>Rural</td>\n",
       "      <td>Rural</td>\n",
       "      <td>Urban</td>\n",
       "      <td>Urban</td>\n",
       "      <td>Semiurban</td>\n",
       "    </tr>\n",
       "    <tr>\n",
       "      <th>Loan_Status</th>\n",
       "      <td>Y</td>\n",
       "      <td>Y</td>\n",
       "      <td>Y</td>\n",
       "      <td>Y</td>\n",
       "      <td>N</td>\n",
       "    </tr>\n",
       "  </tbody>\n",
       "</table>\n",
       "</div>"
      ],
      "text/plain": [
       "                        609       610       611       612        613\n",
       "Loan_ID            LP002978  LP002979  LP002983  LP002984   LP002990\n",
       "Gender               Female      Male      Male      Male     Female\n",
       "Married                  No       Yes       Yes       Yes         No\n",
       "Dependents                0        3+         1         2          0\n",
       "Education          Graduate  Graduate  Graduate  Graduate   Graduate\n",
       "Self_Employed            No        No        No        No        Yes\n",
       "ApplicantIncome        2900      4106      8072      7583       4583\n",
       "CoapplicantIncome       0.0       0.0     240.0       0.0        0.0\n",
       "LoanAmount             71.0      40.0     253.0     187.0      133.0\n",
       "Loan_Amount_Term      360.0     180.0     360.0     360.0      360.0\n",
       "Credit_History          1.0       1.0       1.0       1.0        0.0\n",
       "Property_Area         Rural     Rural     Urban     Urban  Semiurban\n",
       "Loan_Status               Y         Y         Y         Y          N"
      ]
     },
     "execution_count": 7,
     "metadata": {},
     "output_type": "execute_result"
    }
   ],
   "source": [
    "df.tail().transpose()"
   ]
  },
  {
   "cell_type": "code",
   "execution_count": 8,
   "id": "71d73b88",
   "metadata": {},
   "outputs": [
    {
     "data": {
      "text/html": [
       "<div>\n",
       "<style scoped>\n",
       "    .dataframe tbody tr th:only-of-type {\n",
       "        vertical-align: middle;\n",
       "    }\n",
       "\n",
       "    .dataframe tbody tr th {\n",
       "        vertical-align: top;\n",
       "    }\n",
       "\n",
       "    .dataframe thead th {\n",
       "        text-align: right;\n",
       "    }\n",
       "</style>\n",
       "<table border=\"1\" class=\"dataframe\">\n",
       "  <thead>\n",
       "    <tr style=\"text-align: right;\">\n",
       "      <th></th>\n",
       "      <th>227</th>\n",
       "      <th>248</th>\n",
       "      <th>18</th>\n",
       "      <th>32</th>\n",
       "      <th>415</th>\n",
       "      <th>265</th>\n",
       "      <th>42</th>\n",
       "      <th>354</th>\n",
       "      <th>364</th>\n",
       "      <th>432</th>\n",
       "    </tr>\n",
       "  </thead>\n",
       "  <tbody>\n",
       "    <tr>\n",
       "      <th>Loan_ID</th>\n",
       "      <td>LP001758</td>\n",
       "      <td>LP001824</td>\n",
       "      <td>LP001038</td>\n",
       "      <td>LP001097</td>\n",
       "      <td>LP002337</td>\n",
       "      <td>LP001875</td>\n",
       "      <td>LP001123</td>\n",
       "      <td>LP002143</td>\n",
       "      <td>LP002180</td>\n",
       "      <td>LP002386</td>\n",
       "    </tr>\n",
       "    <tr>\n",
       "      <th>Gender</th>\n",
       "      <td>Male</td>\n",
       "      <td>Male</td>\n",
       "      <td>Male</td>\n",
       "      <td>Male</td>\n",
       "      <td>Female</td>\n",
       "      <td>Male</td>\n",
       "      <td>Male</td>\n",
       "      <td>Female</td>\n",
       "      <td>Male</td>\n",
       "      <td>Male</td>\n",
       "    </tr>\n",
       "    <tr>\n",
       "      <th>Married</th>\n",
       "      <td>Yes</td>\n",
       "      <td>Yes</td>\n",
       "      <td>Yes</td>\n",
       "      <td>No</td>\n",
       "      <td>No</td>\n",
       "      <td>No</td>\n",
       "      <td>Yes</td>\n",
       "      <td>Yes</td>\n",
       "      <td>No</td>\n",
       "      <td>No</td>\n",
       "    </tr>\n",
       "    <tr>\n",
       "      <th>Dependents</th>\n",
       "      <td>2</td>\n",
       "      <td>1</td>\n",
       "      <td>0</td>\n",
       "      <td>1</td>\n",
       "      <td>0</td>\n",
       "      <td>0</td>\n",
       "      <td>0</td>\n",
       "      <td>0</td>\n",
       "      <td>0</td>\n",
       "      <td>0</td>\n",
       "    </tr>\n",
       "    <tr>\n",
       "      <th>Education</th>\n",
       "      <td>Graduate</td>\n",
       "      <td>Graduate</td>\n",
       "      <td>Not Graduate</td>\n",
       "      <td>Graduate</td>\n",
       "      <td>Graduate</td>\n",
       "      <td>Graduate</td>\n",
       "      <td>Graduate</td>\n",
       "      <td>Graduate</td>\n",
       "      <td>Graduate</td>\n",
       "      <td>Graduate</td>\n",
       "    </tr>\n",
       "    <tr>\n",
       "      <th>Self_Employed</th>\n",
       "      <td>No</td>\n",
       "      <td>No</td>\n",
       "      <td>No</td>\n",
       "      <td>Yes</td>\n",
       "      <td>No</td>\n",
       "      <td>No</td>\n",
       "      <td>No</td>\n",
       "      <td>No</td>\n",
       "      <td>Yes</td>\n",
       "      <td>NaN</td>\n",
       "    </tr>\n",
       "    <tr>\n",
       "      <th>ApplicantIncome</th>\n",
       "      <td>6250</td>\n",
       "      <td>2882</td>\n",
       "      <td>4887</td>\n",
       "      <td>4692</td>\n",
       "      <td>2995</td>\n",
       "      <td>4095</td>\n",
       "      <td>2400</td>\n",
       "      <td>2423</td>\n",
       "      <td>6822</td>\n",
       "      <td>12876</td>\n",
       "    </tr>\n",
       "    <tr>\n",
       "      <th>CoapplicantIncome</th>\n",
       "      <td>1695.0</td>\n",
       "      <td>1843.0</td>\n",
       "      <td>0.0</td>\n",
       "      <td>0.0</td>\n",
       "      <td>0.0</td>\n",
       "      <td>3447.0</td>\n",
       "      <td>0.0</td>\n",
       "      <td>505.0</td>\n",
       "      <td>0.0</td>\n",
       "      <td>0.0</td>\n",
       "    </tr>\n",
       "    <tr>\n",
       "      <th>LoanAmount</th>\n",
       "      <td>210.0</td>\n",
       "      <td>123.0</td>\n",
       "      <td>133.0</td>\n",
       "      <td>106.0</td>\n",
       "      <td>60.0</td>\n",
       "      <td>151.0</td>\n",
       "      <td>75.0</td>\n",
       "      <td>130.0</td>\n",
       "      <td>141.0</td>\n",
       "      <td>405.0</td>\n",
       "    </tr>\n",
       "    <tr>\n",
       "      <th>Loan_Amount_Term</th>\n",
       "      <td>360.0</td>\n",
       "      <td>480.0</td>\n",
       "      <td>360.0</td>\n",
       "      <td>360.0</td>\n",
       "      <td>360.0</td>\n",
       "      <td>360.0</td>\n",
       "      <td>360.0</td>\n",
       "      <td>360.0</td>\n",
       "      <td>360.0</td>\n",
       "      <td>360.0</td>\n",
       "    </tr>\n",
       "    <tr>\n",
       "      <th>Credit_History</th>\n",
       "      <td>1.0</td>\n",
       "      <td>1.0</td>\n",
       "      <td>1.0</td>\n",
       "      <td>1.0</td>\n",
       "      <td>1.0</td>\n",
       "      <td>1.0</td>\n",
       "      <td>NaN</td>\n",
       "      <td>1.0</td>\n",
       "      <td>1.0</td>\n",
       "      <td>1.0</td>\n",
       "    </tr>\n",
       "    <tr>\n",
       "      <th>Property_Area</th>\n",
       "      <td>Semiurban</td>\n",
       "      <td>Semiurban</td>\n",
       "      <td>Rural</td>\n",
       "      <td>Rural</td>\n",
       "      <td>Urban</td>\n",
       "      <td>Rural</td>\n",
       "      <td>Urban</td>\n",
       "      <td>Semiurban</td>\n",
       "      <td>Rural</td>\n",
       "      <td>Semiurban</td>\n",
       "    </tr>\n",
       "    <tr>\n",
       "      <th>Loan_Status</th>\n",
       "      <td>Y</td>\n",
       "      <td>Y</td>\n",
       "      <td>N</td>\n",
       "      <td>N</td>\n",
       "      <td>Y</td>\n",
       "      <td>Y</td>\n",
       "      <td>Y</td>\n",
       "      <td>Y</td>\n",
       "      <td>Y</td>\n",
       "      <td>Y</td>\n",
       "    </tr>\n",
       "  </tbody>\n",
       "</table>\n",
       "</div>"
      ],
      "text/plain": [
       "                         227        248           18        32        415  \\\n",
       "Loan_ID             LP001758   LP001824      LP001038  LP001097  LP002337   \n",
       "Gender                  Male       Male          Male      Male    Female   \n",
       "Married                  Yes        Yes           Yes        No        No   \n",
       "Dependents                 2          1             0         1         0   \n",
       "Education           Graduate   Graduate  Not Graduate  Graduate  Graduate   \n",
       "Self_Employed             No         No            No       Yes        No   \n",
       "ApplicantIncome         6250       2882          4887      4692      2995   \n",
       "CoapplicantIncome     1695.0     1843.0           0.0       0.0       0.0   \n",
       "LoanAmount             210.0      123.0         133.0     106.0      60.0   \n",
       "Loan_Amount_Term       360.0      480.0         360.0     360.0     360.0   \n",
       "Credit_History           1.0        1.0           1.0       1.0       1.0   \n",
       "Property_Area      Semiurban  Semiurban         Rural     Rural     Urban   \n",
       "Loan_Status                Y          Y             N         N         Y   \n",
       "\n",
       "                        265       42         354       364        432  \n",
       "Loan_ID            LP001875  LP001123   LP002143  LP002180   LP002386  \n",
       "Gender                 Male      Male     Female      Male       Male  \n",
       "Married                  No       Yes        Yes        No         No  \n",
       "Dependents                0         0          0         0          0  \n",
       "Education          Graduate  Graduate   Graduate  Graduate   Graduate  \n",
       "Self_Employed            No        No         No       Yes        NaN  \n",
       "ApplicantIncome        4095      2400       2423      6822      12876  \n",
       "CoapplicantIncome    3447.0       0.0      505.0       0.0        0.0  \n",
       "LoanAmount            151.0      75.0      130.0     141.0      405.0  \n",
       "Loan_Amount_Term      360.0     360.0      360.0     360.0      360.0  \n",
       "Credit_History          1.0       NaN        1.0       1.0        1.0  \n",
       "Property_Area         Rural     Urban  Semiurban     Rural  Semiurban  \n",
       "Loan_Status               Y         Y          Y         Y          Y  "
      ]
     },
     "execution_count": 8,
     "metadata": {},
     "output_type": "execute_result"
    }
   ],
   "source": [
    "df.sample(10).transpose()"
   ]
  },
  {
   "cell_type": "code",
   "execution_count": 12,
   "id": "f8b3a181",
   "metadata": {},
   "outputs": [
    {
     "data": {
      "text/plain": [
       "Loan_ID               object\n",
       "Gender                object\n",
       "Married               object\n",
       "Dependents            object\n",
       "Education             object\n",
       "Self_Employed         object\n",
       "ApplicantIncome        int64\n",
       "CoapplicantIncome    float64\n",
       "LoanAmount           float64\n",
       "Loan_Amount_Term     float64\n",
       "Credit_History       float64\n",
       "Property_Area         object\n",
       "Loan_Status           object\n",
       "dtype: object"
      ]
     },
     "execution_count": 12,
     "metadata": {},
     "output_type": "execute_result"
    }
   ],
   "source": [
    "df.dtypes"
   ]
  },
  {
   "cell_type": "code",
   "execution_count": 13,
   "id": "28c6c929",
   "metadata": {},
   "outputs": [
    {
     "data": {
      "text/plain": [
       "(614, 13)"
      ]
     },
     "execution_count": 13,
     "metadata": {},
     "output_type": "execute_result"
    }
   ],
   "source": [
    "df.shape"
   ]
  },
  {
   "cell_type": "code",
   "execution_count": 14,
   "id": "acf8e5be",
   "metadata": {},
   "outputs": [
    {
     "name": "stdout",
     "output_type": "stream",
     "text": [
      "<class 'pandas.core.frame.DataFrame'>\n",
      "RangeIndex: 614 entries, 0 to 613\n",
      "Data columns (total 13 columns):\n",
      " #   Column             Non-Null Count  Dtype  \n",
      "---  ------             --------------  -----  \n",
      " 0   Loan_ID            614 non-null    object \n",
      " 1   Gender             601 non-null    object \n",
      " 2   Married            611 non-null    object \n",
      " 3   Dependents         599 non-null    object \n",
      " 4   Education          614 non-null    object \n",
      " 5   Self_Employed      582 non-null    object \n",
      " 6   ApplicantIncome    614 non-null    int64  \n",
      " 7   CoapplicantIncome  614 non-null    float64\n",
      " 8   LoanAmount         592 non-null    float64\n",
      " 9   Loan_Amount_Term   600 non-null    float64\n",
      " 10  Credit_History     564 non-null    float64\n",
      " 11  Property_Area      614 non-null    object \n",
      " 12  Loan_Status        614 non-null    object \n",
      "dtypes: float64(4), int64(1), object(8)\n",
      "memory usage: 62.5+ KB\n"
     ]
    }
   ],
   "source": [
    "df.info()"
   ]
  },
  {
   "cell_type": "code",
   "execution_count": 23,
   "id": "8176415d",
   "metadata": {},
   "outputs": [
    {
     "name": "stdout",
     "output_type": "stream",
     "text": [
      "Number of Categories: \n",
      "Loan_ID = 614\n",
      "Gender = 3\n",
      "Married = 3\n",
      "Dependents = 5\n",
      "Education = 2\n",
      "Self_Employed = 3\n",
      "Property_Area = 3\n",
      "Loan_Status = 2\n"
     ]
    }
   ],
   "source": [
    "print('Number of Categories: ')\n",
    "for ColName in df[['Loan_ID', 'Gender', 'Married', 'Dependents', 'Education',\n",
    "'Self_Employed','Property_Area','Loan_Status']]:\n",
    "    \n",
    "    print('{} = {}'.format(ColName,len(df[ColName].unique())))\n",
    "    \n",
    "#rint(“{} = {}”.format(ColName,len(df[ColName].unique())))"
   ]
  },
  {
   "cell_type": "code",
   "execution_count": 24,
   "id": "6bc3ec18",
   "metadata": {},
   "outputs": [
    {
     "data": {
      "text/plain": [
       "array(['Male', 'Female', nan], dtype=object)"
      ]
     },
     "execution_count": 24,
     "metadata": {},
     "output_type": "execute_result"
    }
   ],
   "source": [
    "df['Gender'].unique()"
   ]
  },
  {
   "cell_type": "code",
   "execution_count": 25,
   "id": "01b746dd",
   "metadata": {},
   "outputs": [],
   "source": [
    "#as per above we can see that gender include nan data"
   ]
  },
  {
   "cell_type": "code",
   "execution_count": 26,
   "id": "a9098b3e",
   "metadata": {},
   "outputs": [
    {
     "data": {
      "text/plain": [
       "array(['No', 'Yes', nan], dtype=object)"
      ]
     },
     "execution_count": 26,
     "metadata": {},
     "output_type": "execute_result"
    }
   ],
   "source": [
    "df['Married'].unique()"
   ]
  },
  {
   "cell_type": "code",
   "execution_count": 27,
   "id": "5896f814",
   "metadata": {},
   "outputs": [],
   "source": [
    "#as per above we can see that married include nan data"
   ]
  },
  {
   "cell_type": "markdown",
   "id": "eea6ad9a",
   "metadata": {},
   "source": [
    "Observation: This represents number of categories of particular type of data.\n",
    "As, Loan_Status which is going to be target variable is having 2 types of data so one will be using Logistic Regression"
   ]
  },
  {
   "cell_type": "code",
   "execution_count": 28,
   "id": "31c8a7be",
   "metadata": {},
   "outputs": [
    {
     "data": {
      "text/plain": [
       "Loan_ID               0\n",
       "Gender               13\n",
       "Married               3\n",
       "Dependents           15\n",
       "Education             0\n",
       "Self_Employed        32\n",
       "ApplicantIncome       0\n",
       "CoapplicantIncome     0\n",
       "LoanAmount           22\n",
       "Loan_Amount_Term     14\n",
       "Credit_History       50\n",
       "Property_Area         0\n",
       "Loan_Status           0\n",
       "dtype: int64"
      ]
     },
     "execution_count": 28,
     "metadata": {},
     "output_type": "execute_result"
    }
   ],
   "source": [
    "df.isnull().sum()"
   ]
  },
  {
   "cell_type": "code",
   "execution_count": 34,
   "id": "6549fc3f",
   "metadata": {},
   "outputs": [
    {
     "data": {
      "image/png": "[encoded data removed]",
      "text/plain": [
       "<Figure size 720x720 with 2 Axes>"
      ]
     },
     "metadata": {
      "needs_background": "light"
     },
     "output_type": "display_data"
    }
   ],
   "source": [
    "plt.figure(figsize=(10,10))\n",
    "sns.heatmap(df.isnull())\n",
    "plt.show()"
   ]
  },
  {
   "cell_type": "code",
   "execution_count": 37,
   "id": "877c644f",
   "metadata": {},
   "outputs": [],
   "source": [
    "#Replacing null values of object column with mode of it.\n",
    "collist=df.columns.values\n",
    "for i in range(0,len(collist)):\n",
    "    if df[collist[i]].dtype == \"object\":\n",
    "        df[collist[i]].fillna(df[collist[i]].mode()[0], inplace=True)\n",
    "#Replacing non object values i.e. int64 and float64 null values with mean of it.\n",
    "collist=df.columns.values\n",
    "for i in range(0,len(collist)):\n",
    "    if df[collist[i]].dtype != \"object\":\n",
    "        df[collist[i]].fillna(df[collist[i]].mean(), inplace=True)"
   ]
  },
  {
   "cell_type": "code",
   "execution_count": 38,
   "id": "de73207a",
   "metadata": {},
   "outputs": [
    {
     "data": {
      "image/png": "[encoded data removed]",
      "text/plain": [
       "<Figure size 720x720 with 2 Axes>"
      ]
     },
     "metadata": {
      "needs_background": "light"
     },
     "output_type": "display_data"
    }
   ],
   "source": [
    "#checking again null values\n",
    "plt.figure(figsize=(10,10))\n",
    "sns.heatmap(df.isnull())\n",
    "plt.show()"
   ]
  },
  {
   "cell_type": "code",
   "execution_count": 39,
   "id": "7abfbf6b",
   "metadata": {},
   "outputs": [],
   "source": [
    "#Now all the null values remove  from the datasets"
   ]
  },
  {
   "cell_type": "code",
   "execution_count": 40,
   "id": "b5ef4802",
   "metadata": {},
   "outputs": [
    {
     "data": {
      "text/plain": [
       "Index(['Loan_ID', 'Gender', 'Married', 'Dependents', 'Education',\n",
       "       'Self_Employed', 'ApplicantIncome', 'CoapplicantIncome', 'LoanAmount',\n",
       "       'Loan_Amount_Term', 'Credit_History', 'Property_Area', 'Loan_Status'],\n",
       "      dtype='object')"
      ]
     },
     "execution_count": 40,
     "metadata": {},
     "output_type": "execute_result"
    }
   ],
   "source": [
    "df.columns"
   ]
  },
  {
   "cell_type": "code",
   "execution_count": 41,
   "id": "0a416018",
   "metadata": {},
   "outputs": [
    {
     "data": {
      "image/png": "[encoded data removed]",
      "text/plain": [
       "<Figure size 576x576 with 1 Axes>"
      ]
     },
     "metadata": {
      "needs_background": "light"
     },
     "output_type": "display_data"
    }
   ],
   "source": [
    "plt.figure(figsize=(8,8))\n",
    "sns.countplot(x='Loan_Status',data=df)\n",
    "plt.title('Loan Yes or NO', fontsize=20)\n",
    "plt.show()\n"
   ]
  },
  {
   "cell_type": "code",
   "execution_count": 42,
   "id": "886634ef",
   "metadata": {},
   "outputs": [
    {
     "data": {
      "image/png": "[encoded data removed]",
      "text/plain": [
       "<Figure size 720x360 with 1 Axes>"
      ]
     },
     "metadata": {
      "needs_background": "light"
     },
     "output_type": "display_data"
    }
   ],
   "source": [
    "plt.figure(figsize = (10,5)) \n",
    "sns.countplot(x=\"Gender\", data=df) \n",
    "plt.title(\"Male vs Female\", fontsize = 20) \n",
    "plt.show()"
   ]
  },
  {
   "cell_type": "code",
   "execution_count": 49,
   "id": "5c7cda22",
   "metadata": {},
   "outputs": [
    {
     "data": {
      "image/png": "[encoded data removed]",
      "text/plain": [
       "<Figure size 720x360 with 1 Axes>"
      ]
     },
     "metadata": {
      "needs_background": "light"
     },
     "output_type": "display_data"
    }
   ],
   "source": [
    "plt.figure(figsize = (10,5)) \n",
    "sns.countplot(x='Married',hue='Gender', data=df) \n",
    "plt.title('Married vs Not Married', fontsize = 20) \n",
    "plt.show()"
   ]
  },
  {
   "cell_type": "code",
   "execution_count": 53,
   "id": "57d5bb81",
   "metadata": {},
   "outputs": [
    {
     "data": {
      "image/png": "[encoded data removed]",
      "text/plain": [
       "<Figure size 720x360 with 1 Axes>"
      ]
     },
     "metadata": {
      "needs_background": "light"
     },
     "output_type": "display_data"
    }
   ],
   "source": [
    "plt.figure(figsize = (10,5))\n",
    "sns.countplot(x=\"Dependents\",hue='Loan_Status', data=df)\n",
    "plt.title(\"Number of Dependents\", fontsize = 20)\n",
    "plt.show()"
   ]
  },
  {
   "cell_type": "code",
   "execution_count": 54,
   "id": "7a0d7353",
   "metadata": {},
   "outputs": [
    {
     "data": {
      "image/png": "[encoded data removed]",
      "text/plain": [
       "<Figure size 720x360 with 1 Axes>"
      ]
     },
     "metadata": {
      "needs_background": "light"
     },
     "output_type": "display_data"
    }
   ],
   "source": [
    "plt.figure(figsize = (10,5))\n",
    "sns.countplot(x=\"Education\", data=df)\n",
    "plt.title(\"Graduate vs Non Graduate\", fontsize = 20)\n",
    "plt.show()"
   ]
  },
  {
   "cell_type": "code",
   "execution_count": 59,
   "id": "c3170107",
   "metadata": {},
   "outputs": [
    {
     "data": {
      "image/png": "[encoded data removed]",
      "text/plain": [
       "<Figure size 720x360 with 1 Axes>"
      ]
     },
     "metadata": {
      "needs_background": "light"
     },
     "output_type": "display_data"
    }
   ],
   "source": [
    "plt.figure(figsize = (10,5))\n",
    "sns.countplot(x=\"Self_Employed\",hue='Loan_Status' ,data=df)\n",
    "plt.title(\"Self Employed or Not\", fontsize = 20)\n",
    "plt.show()"
   ]
  },
  {
   "cell_type": "code",
   "execution_count": 62,
   "id": "79565666",
   "metadata": {},
   "outputs": [
    {
     "data": {
      "image/png": "[encoded data removed]",
      "text/plain": [
       "<Figure size 720x360 with 1 Axes>"
      ]
     },
     "metadata": {
      "needs_background": "light"
     },
     "output_type": "display_data"
    }
   ],
   "source": [
    "plt.figure(figsize = (10,5))\n",
    "sns.countplot(x=\"Property_Area\", data=df)\n",
    "plt.title(\"Property Area Type\", fontsize = 20)\n",
    "plt.show()"
   ]
  },
  {
   "cell_type": "code",
   "execution_count": 66,
   "id": "c0bd1c0f",
   "metadata": {},
   "outputs": [
    {
     "data": {
      "image/png": "[encoded data removed]",
      "text/plain": [
       "<Figure size 864x1080 with 8 Axes>"
      ]
     },
     "metadata": {
      "needs_background": "light"
     },
     "output_type": "display_data"
    }
   ],
   "source": [
    "label_list=['Gender', 'Married', 'Dependents', 'Education', 'Self_Employed', 'Property_Area','Credit_History','Loan_Amount_Term']\n",
    "fig,axes = plt.subplots(4,2,figsize=(12,15))\n",
    "for i,cat in enumerate(label_list):\n",
    "    row,col = i//2,i%2 #getting size of plots in row and cols \n",
    "    sns.countplot(x=cat,data=df,hue='Loan_Status',ax=axes[row,col]) #Plotting count plot with hue Loan Status\n",
    "plt.subplots_adjust(hspace=1) # Plotting the graphs"
   ]
  },
  {
   "cell_type": "code",
   "execution_count": 71,
   "id": "3ee94583",
   "metadata": {},
   "outputs": [
    {
     "data": {
      "image/png": "[encoded data removed]",
      "text/plain": [
       "<Figure size 1224x360 with 3 Axes>"
      ]
     },
     "metadata": {
      "needs_background": "light"
     },
     "output_type": "display_data"
    }
   ],
   "source": [
    "label_list = ['ApplicantIncome', 'CoapplicantIncome', 'LoanAmount']\n",
    "fig,axes = plt.subplots(1,3,figsize=(17,5)) #size of plot\n",
    "for i,cat_col in enumerate(label_list):\n",
    "    sns.boxplot(y=cat_col,data=df,x='Loan_Status',ax=axes[i])\n",
    "    plt.subplots_adjust(hspace=1) #plotting the graph"
   ]
  },
  {
   "cell_type": "code",
   "execution_count": 72,
   "id": "f5f64b76",
   "metadata": {},
   "outputs": [],
   "source": [
    "#Dropping Loan_ID \n",
    "df.drop('Loan_ID',axis=1,inplace=True)"
   ]
  },
  {
   "cell_type": "code",
   "execution_count": 80,
   "id": "edf6e235",
   "metadata": {},
   "outputs": [],
   "source": [
    "#Let’s perform label encoding to convert object type columns into numeric type\n",
    "\n",
    "label_list=list(df.select_dtypes(['object']).columns)\n",
    "le=LabelEncoder()\n",
    "for i in label_list:\n",
    "    df[i] = le.fit_transform(df[i])"
   ]
  },
  {
   "cell_type": "code",
   "execution_count": 81,
   "id": "080fe2c3",
   "metadata": {},
   "outputs": [
    {
     "data": {
      "text/plain": [
       "Gender              -1.648795\n",
       "Married             -0.644850\n",
       "Dependents           1.015551\n",
       "Education            1.367622\n",
       "Self_Employed        2.159796\n",
       "ApplicantIncome     -0.092946\n",
       "CoapplicantIncome   -0.145646\n",
       "LoanAmount           0.024376\n",
       "Loan_Amount_Term     0.389827\n",
       "Credit_History      -1.963600\n",
       "Property_Area       -0.066196\n",
       "Loan_Status         -0.809998\n",
       "dtype: float64"
      ]
     },
     "execution_count": 81,
     "metadata": {},
     "output_type": "execute_result"
    }
   ],
   "source": [
    "df.skew()"
   ]
  },
  {
   "cell_type": "code",
   "execution_count": 82,
   "id": "99e8387d",
   "metadata": {},
   "outputs": [],
   "source": [
    "#Skewness of these columns are too high, let’s reduce the skewness using PowerTransformer\n",
    "\n",
    "\n",
    "PT=PowerTransformer()\n",
    "for i in df.columns:\n",
    "    if df[i].dtype != \"object\":\n",
    "        if ((len(pd.unique(df[i]))) > 3):\n",
    "            if abs(df.loc[:,i].skew())>0.55:\n",
    "                df.loc[:,i]=PT.fit_transform(df.loc[:,i].values.reshape(-1,1))"
   ]
  },
  {
   "cell_type": "code",
   "execution_count": 84,
   "id": "cd1fcf91",
   "metadata": {},
   "outputs": [
    {
     "data": {
      "text/html": [
       "<div>\n",
       "<style scoped>\n",
       "    .dataframe tbody tr th:only-of-type {\n",
       "        vertical-align: middle;\n",
       "    }\n",
       "\n",
       "    .dataframe tbody tr th {\n",
       "        vertical-align: top;\n",
       "    }\n",
       "\n",
       "    .dataframe thead th {\n",
       "        text-align: right;\n",
       "    }\n",
       "</style>\n",
       "<table border=\"1\" class=\"dataframe\">\n",
       "  <thead>\n",
       "    <tr style=\"text-align: right;\">\n",
       "      <th></th>\n",
       "      <th>Gender</th>\n",
       "      <th>Married</th>\n",
       "      <th>Dependents</th>\n",
       "      <th>Education</th>\n",
       "      <th>Self_Employed</th>\n",
       "      <th>ApplicantIncome</th>\n",
       "      <th>CoapplicantIncome</th>\n",
       "      <th>LoanAmount</th>\n",
       "      <th>Loan_Amount_Term</th>\n",
       "      <th>Credit_History</th>\n",
       "      <th>Property_Area</th>\n",
       "      <th>Loan_Status</th>\n",
       "    </tr>\n",
       "  </thead>\n",
       "  <tbody>\n",
       "    <tr>\n",
       "      <th>0</th>\n",
       "      <td>1</td>\n",
       "      <td>0</td>\n",
       "      <td>-0.827104</td>\n",
       "      <td>0</td>\n",
       "      <td>0</td>\n",
       "      <td>0.544331</td>\n",
       "      <td>-1.102837</td>\n",
       "      <td>0.235387</td>\n",
       "      <td>0.185905</td>\n",
       "      <td>1.0</td>\n",
       "      <td>2</td>\n",
       "      <td>1</td>\n",
       "    </tr>\n",
       "    <tr>\n",
       "      <th>1</th>\n",
       "      <td>1</td>\n",
       "      <td>1</td>\n",
       "      <td>0.854259</td>\n",
       "      <td>0</td>\n",
       "      <td>0</td>\n",
       "      <td>0.170974</td>\n",
       "      <td>0.750578</td>\n",
       "      <td>-0.037659</td>\n",
       "      <td>0.185905</td>\n",
       "      <td>1.0</td>\n",
       "      <td>0</td>\n",
       "      <td>0</td>\n",
       "    </tr>\n",
       "    <tr>\n",
       "      <th>2</th>\n",
       "      <td>1</td>\n",
       "      <td>1</td>\n",
       "      <td>-0.827104</td>\n",
       "      <td>0</td>\n",
       "      <td>1</td>\n",
       "      <td>-0.499955</td>\n",
       "      <td>-1.102837</td>\n",
       "      <td>-1.346305</td>\n",
       "      <td>0.185905</td>\n",
       "      <td>1.0</td>\n",
       "      <td>2</td>\n",
       "      <td>1</td>\n",
       "    </tr>\n",
       "    <tr>\n",
       "      <th>3</th>\n",
       "      <td>1</td>\n",
       "      <td>1</td>\n",
       "      <td>-0.827104</td>\n",
       "      <td>1</td>\n",
       "      <td>0</td>\n",
       "      <td>-0.743873</td>\n",
       "      <td>0.891686</td>\n",
       "      <td>-0.167886</td>\n",
       "      <td>0.185905</td>\n",
       "      <td>1.0</td>\n",
       "      <td>2</td>\n",
       "      <td>1</td>\n",
       "    </tr>\n",
       "    <tr>\n",
       "      <th>4</th>\n",
       "      <td>1</td>\n",
       "      <td>0</td>\n",
       "      <td>-0.827104</td>\n",
       "      <td>0</td>\n",
       "      <td>0</td>\n",
       "      <td>0.582817</td>\n",
       "      <td>-1.102837</td>\n",
       "      <td>0.158610</td>\n",
       "      <td>0.185905</td>\n",
       "      <td>1.0</td>\n",
       "      <td>2</td>\n",
       "      <td>1</td>\n",
       "    </tr>\n",
       "  </tbody>\n",
       "</table>\n",
       "</div>"
      ],
      "text/plain": [
       "   Gender  Married  Dependents  Education  Self_Employed  ApplicantIncome  \\\n",
       "0       1        0   -0.827104          0              0         0.544331   \n",
       "1       1        1    0.854259          0              0         0.170974   \n",
       "2       1        1   -0.827104          0              1        -0.499955   \n",
       "3       1        1   -0.827104          1              0        -0.743873   \n",
       "4       1        0   -0.827104          0              0         0.582817   \n",
       "\n",
       "   CoapplicantIncome  LoanAmount  Loan_Amount_Term  Credit_History  \\\n",
       "0          -1.102837    0.235387          0.185905             1.0   \n",
       "1           0.750578   -0.037659          0.185905             1.0   \n",
       "2          -1.102837   -1.346305          0.185905             1.0   \n",
       "3           0.891686   -0.167886          0.185905             1.0   \n",
       "4          -1.102837    0.158610          0.185905             1.0   \n",
       "\n",
       "   Property_Area  Loan_Status  \n",
       "0              2            1  \n",
       "1              0            0  \n",
       "2              2            1  \n",
       "3              2            1  \n",
       "4              2            1  "
      ]
     },
     "execution_count": 84,
     "metadata": {},
     "output_type": "execute_result"
    }
   ],
   "source": [
    "df.head()"
   ]
  },
  {
   "cell_type": "code",
   "execution_count": 85,
   "id": "e4b66727",
   "metadata": {},
   "outputs": [
    {
     "data": {
      "text/html": [
       "<div>\n",
       "<style scoped>\n",
       "    .dataframe tbody tr th:only-of-type {\n",
       "        vertical-align: middle;\n",
       "    }\n",
       "\n",
       "    .dataframe tbody tr th {\n",
       "        vertical-align: top;\n",
       "    }\n",
       "\n",
       "    .dataframe thead th {\n",
       "        text-align: right;\n",
       "    }\n",
       "</style>\n",
       "<table border=\"1\" class=\"dataframe\">\n",
       "  <thead>\n",
       "    <tr style=\"text-align: right;\">\n",
       "      <th></th>\n",
       "      <th>Gender</th>\n",
       "      <th>Married</th>\n",
       "      <th>Dependents</th>\n",
       "      <th>Education</th>\n",
       "      <th>Self_Employed</th>\n",
       "      <th>ApplicantIncome</th>\n",
       "      <th>CoapplicantIncome</th>\n",
       "      <th>LoanAmount</th>\n",
       "      <th>Loan_Amount_Term</th>\n",
       "      <th>Credit_History</th>\n",
       "      <th>Property_Area</th>\n",
       "      <th>Loan_Status</th>\n",
       "    </tr>\n",
       "  </thead>\n",
       "  <tbody>\n",
       "    <tr>\n",
       "      <th>609</th>\n",
       "      <td>0</td>\n",
       "      <td>0</td>\n",
       "      <td>-0.827104</td>\n",
       "      <td>0</td>\n",
       "      <td>0</td>\n",
       "      <td>-0.554885</td>\n",
       "      <td>-1.102837</td>\n",
       "      <td>-1.205100</td>\n",
       "      <td>0.185905</td>\n",
       "      <td>1.0</td>\n",
       "      <td>0</td>\n",
       "      <td>1</td>\n",
       "    </tr>\n",
       "    <tr>\n",
       "      <th>610</th>\n",
       "      <td>1</td>\n",
       "      <td>1</td>\n",
       "      <td>1.522278</td>\n",
       "      <td>0</td>\n",
       "      <td>0</td>\n",
       "      <td>-0.000290</td>\n",
       "      <td>-1.102837</td>\n",
       "      <td>-2.293317</td>\n",
       "      <td>-2.308570</td>\n",
       "      <td>1.0</td>\n",
       "      <td>0</td>\n",
       "      <td>1</td>\n",
       "    </tr>\n",
       "    <tr>\n",
       "      <th>611</th>\n",
       "      <td>1</td>\n",
       "      <td>1</td>\n",
       "      <td>0.854259</td>\n",
       "      <td>0</td>\n",
       "      <td>0</td>\n",
       "      <td>1.023487</td>\n",
       "      <td>0.208603</td>\n",
       "      <td>1.372409</td>\n",
       "      <td>0.185905</td>\n",
       "      <td>1.0</td>\n",
       "      <td>2</td>\n",
       "      <td>1</td>\n",
       "    </tr>\n",
       "    <tr>\n",
       "      <th>612</th>\n",
       "      <td>1</td>\n",
       "      <td>1</td>\n",
       "      <td>1.316702</td>\n",
       "      <td>0</td>\n",
       "      <td>0</td>\n",
       "      <td>0.931750</td>\n",
       "      <td>-1.102837</td>\n",
       "      <td>0.738924</td>\n",
       "      <td>0.185905</td>\n",
       "      <td>1.0</td>\n",
       "      <td>2</td>\n",
       "      <td>1</td>\n",
       "    </tr>\n",
       "    <tr>\n",
       "      <th>613</th>\n",
       "      <td>0</td>\n",
       "      <td>0</td>\n",
       "      <td>-0.827104</td>\n",
       "      <td>0</td>\n",
       "      <td>1</td>\n",
       "      <td>0.170974</td>\n",
       "      <td>-1.102837</td>\n",
       "      <td>0.039936</td>\n",
       "      <td>0.185905</td>\n",
       "      <td>0.0</td>\n",
       "      <td>1</td>\n",
       "      <td>0</td>\n",
       "    </tr>\n",
       "  </tbody>\n",
       "</table>\n",
       "</div>"
      ],
      "text/plain": [
       "     Gender  Married  Dependents  Education  Self_Employed  ApplicantIncome  \\\n",
       "609       0        0   -0.827104          0              0        -0.554885   \n",
       "610       1        1    1.522278          0              0        -0.000290   \n",
       "611       1        1    0.854259          0              0         1.023487   \n",
       "612       1        1    1.316702          0              0         0.931750   \n",
       "613       0        0   -0.827104          0              1         0.170974   \n",
       "\n",
       "     CoapplicantIncome  LoanAmount  Loan_Amount_Term  Credit_History  \\\n",
       "609          -1.102837   -1.205100          0.185905             1.0   \n",
       "610          -1.102837   -2.293317         -2.308570             1.0   \n",
       "611           0.208603    1.372409          0.185905             1.0   \n",
       "612          -1.102837    0.738924          0.185905             1.0   \n",
       "613          -1.102837    0.039936          0.185905             0.0   \n",
       "\n",
       "     Property_Area  Loan_Status  \n",
       "609              0            1  \n",
       "610              0            1  \n",
       "611              2            1  \n",
       "612              2            1  \n",
       "613              1            0  "
      ]
     },
     "execution_count": 85,
     "metadata": {},
     "output_type": "execute_result"
    }
   ],
   "source": [
    "df.tail()"
   ]
  },
  {
   "cell_type": "code",
   "execution_count": 90,
   "id": "a80b53a4",
   "metadata": {},
   "outputs": [
    {
     "data": {
      "image/png": "[encoded data removed]",
      "text/plain": [
       "<Figure size 720x720 with 12 Axes>"
      ]
     },
     "metadata": {
      "needs_background": "light"
     },
     "output_type": "display_data"
    }
   ],
   "source": [
    "df.plot(kind='box',subplots=True,layout=(2,6),figsize=(10,10))\n",
    "plt.show()"
   ]
  },
  {
   "cell_type": "code",
   "execution_count": 92,
   "id": "bb44843a",
   "metadata": {},
   "outputs": [
    {
     "name": "stdout",
     "output_type": "stream",
     "text": [
      "(array([ 14,  75,  94, 109, 130, 130, 133, 155, 155, 168, 171, 171, 179,\n",
      "       185, 188, 216, 228, 248, 293, 298, 333, 358, 366, 369, 378, 409,\n",
      "       443, 468, 500, 500, 516, 555, 561, 568, 573, 600], dtype=int64), array([7, 8, 7, 8, 7, 8, 7, 5, 7, 8, 5, 7, 8, 5, 5, 5, 8, 8, 8, 8, 5, 8,\n",
      "       8, 7, 8, 5, 5, 5, 5, 8, 8, 7, 7, 7, 8, 5], dtype=int64))\n"
     ]
    }
   ],
   "source": [
    "z=np.abs(zscore(df))\n",
    "print(np.where(z>3))"
   ]
  },
  {
   "cell_type": "code",
   "execution_count": 103,
   "id": "e2e3c7e3",
   "metadata": {},
   "outputs": [
    {
     "name": "stdout",
     "output_type": "stream",
     "text": [
      "(614, 12)\n",
      "(582, 12)\n"
     ]
    }
   ],
   "source": [
    "#Removing the outliers\n",
    "z=np.abs(zscore(df))\n",
    "threshold=3\n",
    "new_df=df[(z<3).all(axis=1)]\n",
    "print(df.shape)\n",
    "print(new_df.shape)\n",
    "df=new_d"
   ]
  },
  {
   "cell_type": "code",
   "execution_count": 104,
   "id": "e0d56ac7",
   "metadata": {},
   "outputs": [],
   "source": [
    "#lets separated dependent and independent variables\n",
    "\n",
    "x=df.drop('Loan_Status',axis=1)\n",
    "y=df['Loan_Status']"
   ]
  },
  {
   "cell_type": "code",
   "execution_count": 105,
   "id": "4f228d8f",
   "metadata": {},
   "outputs": [
    {
     "data": {
      "text/plain": [
       "(582, 11)"
      ]
     },
     "execution_count": 105,
     "metadata": {},
     "output_type": "execute_result"
    }
   ],
   "source": [
    "x.shape"
   ]
  },
  {
   "cell_type": "code",
   "execution_count": 106,
   "id": "13c7f804",
   "metadata": {},
   "outputs": [
    {
     "data": {
      "text/html": [
       "<div>\n",
       "<style scoped>\n",
       "    .dataframe tbody tr th:only-of-type {\n",
       "        vertical-align: middle;\n",
       "    }\n",
       "\n",
       "    .dataframe tbody tr th {\n",
       "        vertical-align: top;\n",
       "    }\n",
       "\n",
       "    .dataframe thead th {\n",
       "        text-align: right;\n",
       "    }\n",
       "</style>\n",
       "<table border=\"1\" class=\"dataframe\">\n",
       "  <thead>\n",
       "    <tr style=\"text-align: right;\">\n",
       "      <th></th>\n",
       "      <th>Gender</th>\n",
       "      <th>Married</th>\n",
       "      <th>Dependents</th>\n",
       "      <th>Education</th>\n",
       "      <th>Self_Employed</th>\n",
       "      <th>ApplicantIncome</th>\n",
       "      <th>CoapplicantIncome</th>\n",
       "      <th>LoanAmount</th>\n",
       "      <th>Loan_Amount_Term</th>\n",
       "      <th>Credit_History</th>\n",
       "      <th>Property_Area</th>\n",
       "    </tr>\n",
       "  </thead>\n",
       "  <tbody>\n",
       "    <tr>\n",
       "      <th>0</th>\n",
       "      <td>1</td>\n",
       "      <td>0</td>\n",
       "      <td>-0.827104</td>\n",
       "      <td>0</td>\n",
       "      <td>0</td>\n",
       "      <td>0.544331</td>\n",
       "      <td>-1.102837</td>\n",
       "      <td>0.235387</td>\n",
       "      <td>0.185905</td>\n",
       "      <td>1.0</td>\n",
       "      <td>2</td>\n",
       "    </tr>\n",
       "    <tr>\n",
       "      <th>1</th>\n",
       "      <td>1</td>\n",
       "      <td>1</td>\n",
       "      <td>0.854259</td>\n",
       "      <td>0</td>\n",
       "      <td>0</td>\n",
       "      <td>0.170974</td>\n",
       "      <td>0.750578</td>\n",
       "      <td>-0.037659</td>\n",
       "      <td>0.185905</td>\n",
       "      <td>1.0</td>\n",
       "      <td>0</td>\n",
       "    </tr>\n",
       "    <tr>\n",
       "      <th>2</th>\n",
       "      <td>1</td>\n",
       "      <td>1</td>\n",
       "      <td>-0.827104</td>\n",
       "      <td>0</td>\n",
       "      <td>1</td>\n",
       "      <td>-0.499955</td>\n",
       "      <td>-1.102837</td>\n",
       "      <td>-1.346305</td>\n",
       "      <td>0.185905</td>\n",
       "      <td>1.0</td>\n",
       "      <td>2</td>\n",
       "    </tr>\n",
       "    <tr>\n",
       "      <th>3</th>\n",
       "      <td>1</td>\n",
       "      <td>1</td>\n",
       "      <td>-0.827104</td>\n",
       "      <td>1</td>\n",
       "      <td>0</td>\n",
       "      <td>-0.743873</td>\n",
       "      <td>0.891686</td>\n",
       "      <td>-0.167886</td>\n",
       "      <td>0.185905</td>\n",
       "      <td>1.0</td>\n",
       "      <td>2</td>\n",
       "    </tr>\n",
       "    <tr>\n",
       "      <th>4</th>\n",
       "      <td>1</td>\n",
       "      <td>0</td>\n",
       "      <td>-0.827104</td>\n",
       "      <td>0</td>\n",
       "      <td>0</td>\n",
       "      <td>0.582817</td>\n",
       "      <td>-1.102837</td>\n",
       "      <td>0.158610</td>\n",
       "      <td>0.185905</td>\n",
       "      <td>1.0</td>\n",
       "      <td>2</td>\n",
       "    </tr>\n",
       "  </tbody>\n",
       "</table>\n",
       "</div>"
      ],
      "text/plain": [
       "   Gender  Married  Dependents  Education  Self_Employed  ApplicantIncome  \\\n",
       "0       1        0   -0.827104          0              0         0.544331   \n",
       "1       1        1    0.854259          0              0         0.170974   \n",
       "2       1        1   -0.827104          0              1        -0.499955   \n",
       "3       1        1   -0.827104          1              0        -0.743873   \n",
       "4       1        0   -0.827104          0              0         0.582817   \n",
       "\n",
       "   CoapplicantIncome  LoanAmount  Loan_Amount_Term  Credit_History  \\\n",
       "0          -1.102837    0.235387          0.185905             1.0   \n",
       "1           0.750578   -0.037659          0.185905             1.0   \n",
       "2          -1.102837   -1.346305          0.185905             1.0   \n",
       "3           0.891686   -0.167886          0.185905             1.0   \n",
       "4          -1.102837    0.158610          0.185905             1.0   \n",
       "\n",
       "   Property_Area  \n",
       "0              2  \n",
       "1              0  \n",
       "2              2  \n",
       "3              2  \n",
       "4              2  "
      ]
     },
     "execution_count": 106,
     "metadata": {},
     "output_type": "execute_result"
    }
   ],
   "source": [
    "x.head()"
   ]
  },
  {
   "cell_type": "code",
   "execution_count": 107,
   "id": "de3c70f8",
   "metadata": {},
   "outputs": [
    {
     "data": {
      "text/plain": [
       "(582,)"
      ]
     },
     "execution_count": 107,
     "metadata": {},
     "output_type": "execute_result"
    }
   ],
   "source": [
    "y.shape"
   ]
  },
  {
   "cell_type": "code",
   "execution_count": 108,
   "id": "b1d9660f",
   "metadata": {},
   "outputs": [
    {
     "data": {
      "text/plain": [
       "<bound method NDFrame.head of 0      1\n",
       "1      0\n",
       "2      1\n",
       "3      1\n",
       "4      1\n",
       "      ..\n",
       "609    1\n",
       "610    1\n",
       "611    1\n",
       "612    1\n",
       "613    0\n",
       "Name: Loan_Status, Length: 582, dtype: int32>"
      ]
     },
     "execution_count": 108,
     "metadata": {},
     "output_type": "execute_result"
    }
   ],
   "source": [
    "y.head"
   ]
  },
  {
   "cell_type": "code",
   "execution_count": 110,
   "id": "5b3f9827",
   "metadata": {},
   "outputs": [
    {
     "data": {
      "text/html": [
       "<div>\n",
       "<style scoped>\n",
       "    .dataframe tbody tr th:only-of-type {\n",
       "        vertical-align: middle;\n",
       "    }\n",
       "\n",
       "    .dataframe tbody tr th {\n",
       "        vertical-align: top;\n",
       "    }\n",
       "\n",
       "    .dataframe thead th {\n",
       "        text-align: right;\n",
       "    }\n",
       "</style>\n",
       "<table border=\"1\" class=\"dataframe\">\n",
       "  <thead>\n",
       "    <tr style=\"text-align: right;\">\n",
       "      <th></th>\n",
       "      <th>Gender</th>\n",
       "      <th>Married</th>\n",
       "      <th>Dependents</th>\n",
       "      <th>Education</th>\n",
       "      <th>Self_Employed</th>\n",
       "      <th>ApplicantIncome</th>\n",
       "      <th>CoapplicantIncome</th>\n",
       "      <th>LoanAmount</th>\n",
       "      <th>Loan_Amount_Term</th>\n",
       "      <th>Credit_History</th>\n",
       "      <th>Property_Area</th>\n",
       "    </tr>\n",
       "  </thead>\n",
       "  <tbody>\n",
       "    <tr>\n",
       "      <th>0</th>\n",
       "      <td>1.0</td>\n",
       "      <td>0.0</td>\n",
       "      <td>0.000000</td>\n",
       "      <td>0.0</td>\n",
       "      <td>0.0</td>\n",
       "      <td>0.545946</td>\n",
       "      <td>0.000000</td>\n",
       "      <td>0.539193</td>\n",
       "      <td>1.0</td>\n",
       "      <td>1.0</td>\n",
       "      <td>1.0</td>\n",
       "    </tr>\n",
       "    <tr>\n",
       "      <th>1</th>\n",
       "      <td>1.0</td>\n",
       "      <td>1.0</td>\n",
       "      <td>0.715662</td>\n",
       "      <td>0.0</td>\n",
       "      <td>0.0</td>\n",
       "      <td>0.476224</td>\n",
       "      <td>0.635331</td>\n",
       "      <td>0.491004</td>\n",
       "      <td>1.0</td>\n",
       "      <td>1.0</td>\n",
       "      <td>0.0</td>\n",
       "    </tr>\n",
       "    <tr>\n",
       "      <th>2</th>\n",
       "      <td>1.0</td>\n",
       "      <td>1.0</td>\n",
       "      <td>0.000000</td>\n",
       "      <td>0.0</td>\n",
       "      <td>1.0</td>\n",
       "      <td>0.350934</td>\n",
       "      <td>0.000000</td>\n",
       "      <td>0.260047</td>\n",
       "      <td>1.0</td>\n",
       "      <td>1.0</td>\n",
       "      <td>1.0</td>\n",
       "    </tr>\n",
       "    <tr>\n",
       "      <th>3</th>\n",
       "      <td>1.0</td>\n",
       "      <td>1.0</td>\n",
       "      <td>0.000000</td>\n",
       "      <td>1.0</td>\n",
       "      <td>0.0</td>\n",
       "      <td>0.305384</td>\n",
       "      <td>0.683702</td>\n",
       "      <td>0.468021</td>\n",
       "      <td>1.0</td>\n",
       "      <td>1.0</td>\n",
       "      <td>1.0</td>\n",
       "    </tr>\n",
       "    <tr>\n",
       "      <th>4</th>\n",
       "      <td>1.0</td>\n",
       "      <td>0.0</td>\n",
       "      <td>0.000000</td>\n",
       "      <td>0.0</td>\n",
       "      <td>0.0</td>\n",
       "      <td>0.553133</td>\n",
       "      <td>0.000000</td>\n",
       "      <td>0.525643</td>\n",
       "      <td>1.0</td>\n",
       "      <td>1.0</td>\n",
       "      <td>1.0</td>\n",
       "    </tr>\n",
       "  </tbody>\n",
       "</table>\n",
       "</div>"
      ],
      "text/plain": [
       "   Gender  Married  Dependents  Education  Self_Employed  ApplicantIncome  \\\n",
       "0     1.0      0.0    0.000000        0.0            0.0         0.545946   \n",
       "1     1.0      1.0    0.715662        0.0            0.0         0.476224   \n",
       "2     1.0      1.0    0.000000        0.0            1.0         0.350934   \n",
       "3     1.0      1.0    0.000000        1.0            0.0         0.305384   \n",
       "4     1.0      0.0    0.000000        0.0            0.0         0.553133   \n",
       "\n",
       "   CoapplicantIncome  LoanAmount  Loan_Amount_Term  Credit_History  \\\n",
       "0           0.000000    0.539193               1.0             1.0   \n",
       "1           0.635331    0.491004               1.0             1.0   \n",
       "2           0.000000    0.260047               1.0             1.0   \n",
       "3           0.683702    0.468021               1.0             1.0   \n",
       "4           0.000000    0.525643               1.0             1.0   \n",
       "\n",
       "   Property_Area  \n",
       "0            1.0  \n",
       "1            0.0  \n",
       "2            1.0  \n",
       "3            1.0  \n",
       "4            1.0  "
      ]
     },
     "execution_count": 110,
     "metadata": {},
     "output_type": "execute_result"
    }
   ],
   "source": [
    "\n",
    "scaler=MinMaxScaler() #Initializting MinMaxScaler\n",
    "scale_x=scaler.fit_transform(x) #fitting our data into MinMaxScaller\n",
    "scaled_x = pd.DataFrame(scale_x, index=x.index, columns=x.columns)\n",
    "x=scaled_x\n",
    "x.head() #Priting top 5 rows of our data"
   ]
  },
  {
   "cell_type": "code",
   "execution_count": 111,
   "id": "a5fb69e0",
   "metadata": {},
   "outputs": [],
   "source": [
    "#now all variables are scaled"
   ]
  },
  {
   "cell_type": "code",
   "execution_count": 112,
   "id": "30bd8e1c",
   "metadata": {},
   "outputs": [],
   "source": [
    "from sklearn.model_selection import train_test_split\n",
    "from sklearn.linear_model import LogisticRegression\n",
    "from sklearn.metrics import accuracy_score\n",
    "from sklearn.metrics import confusion_matrix,classification_report,auc"
   ]
  },
  {
   "cell_type": "code",
   "execution_count": 143,
   "id": "2df5c01b",
   "metadata": {},
   "outputs": [
    {
     "name": "stdout",
     "output_type": "stream",
     "text": [
      "Best accuracy is 0.8285714285714286  on Random_state  1449\n"
     ]
    }
   ],
   "source": [
    "maxAccu=0\n",
    "maxRS=0\n",
    "for i in range(1,1450):\n",
    "    \n",
    "    x_train,x_test,y_train,y_test=train_test_split(x,y,test_size=.30,random_state=i)\n",
    "    LR = LogisticRegression()\n",
    "    LR.fit(x_train,y_train)\n",
    "    predrf = LR.predict(x_test)\n",
    "    acc = accuracy_score(y_test, predrf)\n",
    "if acc>maxAccu:\n",
    "    \n",
    "    maxAccu=acc\n",
    "    maxRS=i\n",
    "print(\"Best accuracy is\",maxAccu,\" on Random_state \",maxRS)"
   ]
  },
  {
   "cell_type": "code",
   "execution_count": null,
   "id": "1eb5a2ee",
   "metadata": {},
   "outputs": [],
   "source": []
  },
  {
   "cell_type": "code",
   "execution_count": 144,
   "id": "972713f4",
   "metadata": {},
   "outputs": [],
   "source": [
    "from sklearn.naive_bayes import BernoulliNB\n",
    "from sklearn.svm import SVC\n",
    "from sklearn.tree import DecisionTreeClassifier\n",
    "from sklearn.neighbors import KNeighborsClassifier\n",
    "from sklearn.ensemble import RandomForestClassifier\n",
    "from sklearn.model_selection import cross_val_score"
   ]
  },
  {
   "cell_type": "code",
   "execution_count": 146,
   "id": "ea73c08a",
   "metadata": {},
   "outputs": [
    {
     "name": "stdout",
     "output_type": "stream",
     "text": [
      "***********************************************************\n",
      "|||||||||||||||||||||||||||||||||||||||||||||||||||||||||||\n",
      "accuracy score of -> LogisticRegression()\n",
      "0.8285714285714286\n",
      "[[ 25  28]\n",
      " [  2 120]]\n",
      "              precision    recall  f1-score   support\n",
      "\n",
      "           0       0.93      0.47      0.62        53\n",
      "           1       0.81      0.98      0.89       122\n",
      "\n",
      "    accuracy                           0.83       175\n",
      "   macro avg       0.87      0.73      0.76       175\n",
      "weighted avg       0.85      0.83      0.81       175\n",
      "\n",
      "[0.81196581 0.78632479 0.78448276 0.86206897 0.8362069 ]\n",
      "0.8162098437960508\n",
      "Difference between Accuracy score and cross validation score is -  0.012361584775377854\n",
      "|||||||||||||||||||||||||||||||||||||||||||||||||||||||||||\n",
      "***********************************************************\n",
      "***********************************************************\n",
      "|||||||||||||||||||||||||||||||||||||||||||||||||||||||||||\n",
      "accuracy score of -> KNeighborsClassifier()\n",
      "0.7942857142857143\n",
      "[[ 25  28]\n",
      " [  8 114]]\n",
      "              precision    recall  f1-score   support\n",
      "\n",
      "           0       0.76      0.47      0.58        53\n",
      "           1       0.80      0.93      0.86       122\n",
      "\n",
      "    accuracy                           0.79       175\n",
      "   macro avg       0.78      0.70      0.72       175\n",
      "weighted avg       0.79      0.79      0.78       175\n",
      "\n",
      "[0.79487179 0.76068376 0.75862069 0.81034483 0.75      ]\n",
      "0.774904214559387\n",
      "Difference between Accuracy score and cross validation score is -  0.0193814997263273\n",
      "|||||||||||||||||||||||||||||||||||||||||||||||||||||||||||\n",
      "***********************************************************\n",
      "***********************************************************\n",
      "|||||||||||||||||||||||||||||||||||||||||||||||||||||||||||\n",
      "accuracy score of -> BernoulliNB()\n",
      "0.8285714285714286\n",
      "[[ 25  28]\n",
      " [  2 120]]\n",
      "              precision    recall  f1-score   support\n",
      "\n",
      "           0       0.93      0.47      0.62        53\n",
      "           1       0.81      0.98      0.89       122\n",
      "\n",
      "    accuracy                           0.83       175\n",
      "   macro avg       0.87      0.73      0.76       175\n",
      "weighted avg       0.85      0.83      0.81       175\n",
      "\n",
      "[0.81196581 0.78632479 0.78448276 0.86206897 0.8362069 ]\n",
      "0.8162098437960508\n",
      "Difference between Accuracy score and cross validation score is -  0.012361584775377854\n",
      "|||||||||||||||||||||||||||||||||||||||||||||||||||||||||||\n",
      "***********************************************************\n",
      "***********************************************************\n",
      "|||||||||||||||||||||||||||||||||||||||||||||||||||||||||||\n",
      "accuracy score of -> SVC()\n",
      "0.8285714285714286\n",
      "[[ 25  28]\n",
      " [  2 120]]\n",
      "              precision    recall  f1-score   support\n",
      "\n",
      "           0       0.93      0.47      0.62        53\n",
      "           1       0.81      0.98      0.89       122\n",
      "\n",
      "    accuracy                           0.83       175\n",
      "   macro avg       0.87      0.73      0.76       175\n",
      "weighted avg       0.85      0.83      0.81       175\n",
      "\n",
      "[0.81196581 0.78632479 0.78448276 0.86206897 0.8362069 ]\n",
      "0.8162098437960508\n",
      "Difference between Accuracy score and cross validation score is -  0.012361584775377854\n",
      "|||||||||||||||||||||||||||||||||||||||||||||||||||||||||||\n",
      "***********************************************************\n",
      "***********************************************************\n",
      "|||||||||||||||||||||||||||||||||||||||||||||||||||||||||||\n",
      "accuracy score of -> DecisionTreeClassifier()\n",
      "0.7085714285714285\n",
      "[[32 21]\n",
      " [30 92]]\n",
      "              precision    recall  f1-score   support\n",
      "\n",
      "           0       0.52      0.60      0.56        53\n",
      "           1       0.81      0.75      0.78       122\n",
      "\n",
      "    accuracy                           0.71       175\n",
      "   macro avg       0.67      0.68      0.67       175\n",
      "weighted avg       0.72      0.71      0.71       175\n",
      "\n",
      "[0.72649573 0.61538462 0.70689655 0.71551724 0.71551724]\n",
      "0.6959622752726202\n",
      "Difference between Accuracy score and cross validation score is -  0.012609153298808295\n",
      "|||||||||||||||||||||||||||||||||||||||||||||||||||||||||||\n",
      "***********************************************************\n",
      "***********************************************************\n",
      "|||||||||||||||||||||||||||||||||||||||||||||||||||||||||||\n",
      "accuracy score of -> RandomForestClassifier()\n",
      "0.7885714285714286\n",
      "[[ 25  28]\n",
      " [  9 113]]\n",
      "              precision    recall  f1-score   support\n",
      "\n",
      "           0       0.74      0.47      0.57        53\n",
      "           1       0.80      0.93      0.86       122\n",
      "\n",
      "    accuracy                           0.79       175\n",
      "   macro avg       0.77      0.70      0.72       175\n",
      "weighted avg       0.78      0.79      0.77       175\n",
      "\n",
      "[0.78632479 0.76923077 0.79310345 0.85344828 0.81034483]\n",
      "0.8024904214559386\n",
      "Difference between Accuracy score and cross validation score is -  -0.01391899288451004\n",
      "|||||||||||||||||||||||||||||||||||||||||||||||||||||||||||\n",
      "***********************************************************\n"
     ]
    }
   ],
   "source": [
    "model=[LogisticRegression(),KNeighborsClassifier(),BernoulliNB(),SVC(),DecisionTreeClassifier(),RandomForestClassifier()]\n",
    "for m in model:\n",
    "    m.fit(x_train,y_train)\n",
    "    pred=m.predict(x_test)\n",
    "    print(\"***********************************************************\")\n",
    "    print(\"|||||||||||||||||||||||||||||||||||||||||||||||||||||||||||\")\n",
    "    print('accuracy score of ->', m)\n",
    "    print(accuracy_score(y_test,pred))\n",
    "    print(confusion_matrix(y_test,pred))\n",
    "    print(classification_report(y_test,pred))\n",
    "    score=cross_val_score(m,x,y,cv=5)\n",
    "    print(score)\n",
    "    print(score.mean())\n",
    "    print(\"Difference between Accuracy score and cross validation score is - \",accuracy_score(y_test,pred)-score.mean())\n",
    "    print(\"|||||||||||||||||||||||||||||||||||||||||||||||||||||||||||\")\n",
    "    print(\"***********************************************************\")"
   ]
  },
  {
   "cell_type": "markdown",
   "id": "e40d1fb7",
   "metadata": {},
   "source": [
    "Random Forest Classifier have highest Accuracy more than 79 % and the difference between Cross Validation Score and Accuracy score it less. So Random Forest Classifier will be used here to learn model."
   ]
  },
  {
   "cell_type": "code",
   "execution_count": 147,
   "id": "48c9686f",
   "metadata": {},
   "outputs": [
    {
     "data": {
      "text/plain": [
       "{'min_samples_leaf': 3, 'max_features': 7, 'max_depth': 6}"
      ]
     },
     "execution_count": 147,
     "metadata": {},
     "output_type": "execute_result"
    }
   ],
   "source": [
    "from sklearn.model_selection import RandomizedSearchCV\n",
    "\n",
    "parameters = {\"max_depth\":[1,2,3,4,5,6,7,8,9,10,15,20],\n",
    "\"max_features\": [3,5,7,9],\n",
    "\"min_samples_leaf\":[2,3,4,5,6]}\n",
    "\n",
    "clf = RandomizedSearchCV(RandomForestClassifier(), parameters)\n",
    "clf.fit(x_train,y_train) #fitting train and test data\n",
    "clf.best_params_ #Best parameters"
   ]
  },
  {
   "cell_type": "code",
   "execution_count": 148,
   "id": "c9cdf453",
   "metadata": {},
   "outputs": [],
   "source": [
    "clf_pred=clf.best_estimator_.predict(x_test)\n"
   ]
  },
  {
   "cell_type": "code",
   "execution_count": 149,
   "id": "f7f5d1b7",
   "metadata": {},
   "outputs": [
    {
     "data": {
      "text/plain": [
       "0.8171428571428572"
      ]
     },
     "execution_count": 149,
     "metadata": {},
     "output_type": "execute_result"
    }
   ],
   "source": [
    "accuracy_score(y_test,clf_pred)"
   ]
  },
  {
   "cell_type": "code",
   "execution_count": 150,
   "id": "b09886ab",
   "metadata": {},
   "outputs": [
    {
     "name": "stdout",
     "output_type": "stream",
     "text": [
      "0.8171428571428572\n",
      "[[ 25  28]\n",
      " [  4 118]]\n",
      "              precision    recall  f1-score   support\n",
      "\n",
      "           0       0.86      0.47      0.61        53\n",
      "           1       0.81      0.97      0.88       122\n",
      "\n",
      "    accuracy                           0.82       175\n",
      "   macro avg       0.84      0.72      0.75       175\n",
      "weighted avg       0.82      0.82      0.80       175\n",
      "\n"
     ]
    }
   ],
   "source": [
    "#lets look into classification\n",
    "print(accuracy_score(y_test,clf_pred))\n",
    "print(confusion_matrix(y_test,clf_pred))\n",
    "print(classification_report(y_test,clf_pred))"
   ]
  },
  {
   "cell_type": "code",
   "execution_count": 151,
   "id": "afed26fe",
   "metadata": {},
   "outputs": [],
   "source": [
    "#Plotting AUC ROC curve to see the false positive rate and true positive rate"
   ]
  },
  {
   "cell_type": "code",
   "execution_count": 152,
   "id": "b7089242",
   "metadata": {},
   "outputs": [
    {
     "data": {
      "image/png": "[encoded data removed]",
      "text/plain": [
       "<Figure size 720x648 with 1 Axes>"
      ]
     },
     "metadata": {
      "needs_background": "light"
     },
     "output_type": "display_data"
    }
   ],
   "source": [
    "from sklearn.metrics import roc_curve,auc\n",
    "\n",
    "fpr,tpr,thresholds=roc_curve(y_test,clf_pred) # calculating fpr, tpr\n",
    "rf_auc = auc(fpr, tpr) #Model Accuracy\n",
    "plt.figure(figsize=(10,9)) #plotting the figure, size of 10*9\n",
    "plt.plot(fpr, tpr, label = 'AUC: %0.2f' % rf_auc)\n",
    "plt.plot([1,0],[1,0], linestyle = '--')\n",
    "plt.legend(loc=0) #adding accuracy score at bottom right\n",
    "plt.xlabel('False positive rate')\n",
    "plt.ylabel('True positive rate')\n",
    "plt.grid() #adding the grid"
   ]
  },
  {
   "cell_type": "code",
   "execution_count": 153,
   "id": "c7858c6c",
   "metadata": {},
   "outputs": [
    {
     "data": {
      "text/plain": [
       "array([0, 1, 1, 0, 1, 1, 1, 0, 0, 1, 1, 1, 0, 1, 1, 1, 1, 1, 1, 1, 1, 1,\n",
       "       1, 1, 1, 1, 0, 1, 1, 0, 1, 1, 1, 0, 1, 1, 1, 1, 1, 1, 1, 1, 1, 1,\n",
       "       0, 1, 0, 0, 0, 1, 1, 1, 1, 1, 1, 1, 1, 1, 1, 1, 1, 1, 0, 1, 1, 1,\n",
       "       1, 1, 1, 1, 0, 1, 1, 1, 1, 1, 1, 1, 1, 1, 1, 1, 1, 1, 1, 1, 1, 1,\n",
       "       1, 1, 1, 1, 1, 0, 1, 1, 1, 1, 1, 1, 1, 1, 1, 1, 1, 0, 1, 1, 0, 1,\n",
       "       1, 1, 1, 1, 1, 1, 1, 0, 0, 1, 1, 1, 1, 1, 1, 1, 1, 1, 1, 1, 1, 1,\n",
       "       1, 1, 1, 1, 1, 1, 1, 1, 1, 1, 1, 1, 0, 1, 1, 1, 1, 1, 1, 0, 0, 0,\n",
       "       0, 1, 1, 0, 1, 1, 1, 1, 1, 1, 1, 0, 0, 1, 0, 1, 1, 0, 1, 1, 1])"
      ]
     },
     "execution_count": 153,
     "metadata": {},
     "output_type": "execute_result"
    }
   ],
   "source": [
    "#saving model\n",
    "import joblib\n",
    "joblib.dump(clf.best_estimator_,\"Loan.obj\")\n",
    "SVR_from_joblib=joblib.load(\"Loan.obj\")\n",
    "Predict = SVR_from_joblib.predict(x_test)\n",
    "Predict"
   ]
  },
  {
   "cell_type": "markdown",
   "id": "ab97d932",
   "metadata": {},
   "source": [
    "Concluding Remarks\n",
    "In this case study, a Machine Learning model is developed to predict, whether loan should be approved or not. Here several features were mined from the dataset and combined together with the help of Machine Leaning, to do the loan application status prediction. With the help of the above techniques, proposed model is able to predict the status of the load with an accuracy score of 81%. However, there is still ways to do improvement in this model.\n",
    "\n",
    "In the future, our model can be predict the status of the loan more accurately."
   ]
  },
  {
   "cell_type": "code",
   "execution_count": null,
   "id": "6fa08d66",
   "metadata": {},
   "outputs": [],
   "source": []
  }
 ],
 "metadata": {
  "kernelspec": {
   "display_name": "Python 3 (ipykernel)",
   "language": "python",
   "name": "python3"
  },
  "language_info": {
   "codemirror_mode": {
    "name": "ipython",
    "version": 3
   },
   "file_extension": ".py",
   "mimetype": "text/x-python",
   "name": "python",
   "nbconvert_exporter": "python",
   "pygments_lexer": "ipython3",
   "version": "3.9.12"
  }
 },
 "nbformat": 4,
 "nbformat_minor": 5
}
